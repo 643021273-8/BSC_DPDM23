{
  "nbformat": 4,
  "nbformat_minor": 0,
  "metadata": {
    "colab": {
      "name": "Classification (Decision Tree).ipynb",
      "provenance": [],
      "toc_visible": true,
      "include_colab_link": true
    },
    "kernelspec": {
      "name": "python3",
      "display_name": "Python 3"
    },
    "language_info": {
      "name": "python"
    }
  },
  "cells": [
    {
      "cell_type": "markdown",
      "metadata": {
        "id": "view-in-github",
        "colab_type": "text"
      },
      "source": [
        "<a href=\"https://colab.research.google.com/github/643021273-8/BSC_DPDM23/blob/main/Classification_(Decision_Tree).ipynb\" target=\"_parent\"><img src=\"https://colab.research.google.com/assets/colab-badge.svg\" alt=\"Open In Colab\"/></a>"
      ]
    },
    {
      "cell_type": "markdown",
      "metadata": {
        "id": "j0XvESJgvr6e"
      },
      "source": [
        "Scikit-learn คือ package ที่รวบรวมอัลกอริทึม ที่เกี่ยวข้องกับ machine learning และ data mining (sklearn)"
      ]
    },
    {
      "cell_type": "markdown",
      "metadata": {
        "id": "LBUEC8Yxv-SO"
      },
      "source": [
        "# Load Data"
      ]
    },
    {
      "cell_type": "code",
      "metadata": {
        "id": "1pxschjYvQ3b"
      },
      "source": [
        "from sklearn import datasets\n",
        "\n",
        "iris_data = datasets.load_iris()"
      ],
      "execution_count": 17,
      "outputs": []
    },
    {
      "cell_type": "code",
      "metadata": {
        "colab": {
          "base_uri": "https://localhost:8080/"
        },
        "id": "9U757HvHwbdq",
        "outputId": "51b30da6-301e-4930-a607-881e8b82c610"
      },
      "source": [
        "iris_data"
      ],
      "execution_count": 18,
      "outputs": [
        {
          "output_type": "execute_result",
          "data": {
            "text/plain": [
              "{'data': array([[5.1, 3.5, 1.4, 0.2],\n",
              "        [4.9, 3. , 1.4, 0.2],\n",
              "        [4.7, 3.2, 1.3, 0.2],\n",
              "        [4.6, 3.1, 1.5, 0.2],\n",
              "        [5. , 3.6, 1.4, 0.2],\n",
              "        [5.4, 3.9, 1.7, 0.4],\n",
              "        [4.6, 3.4, 1.4, 0.3],\n",
              "        [5. , 3.4, 1.5, 0.2],\n",
              "        [4.4, 2.9, 1.4, 0.2],\n",
              "        [4.9, 3.1, 1.5, 0.1],\n",
              "        [5.4, 3.7, 1.5, 0.2],\n",
              "        [4.8, 3.4, 1.6, 0.2],\n",
              "        [4.8, 3. , 1.4, 0.1],\n",
              "        [4.3, 3. , 1.1, 0.1],\n",
              "        [5.8, 4. , 1.2, 0.2],\n",
              "        [5.7, 4.4, 1.5, 0.4],\n",
              "        [5.4, 3.9, 1.3, 0.4],\n",
              "        [5.1, 3.5, 1.4, 0.3],\n",
              "        [5.7, 3.8, 1.7, 0.3],\n",
              "        [5.1, 3.8, 1.5, 0.3],\n",
              "        [5.4, 3.4, 1.7, 0.2],\n",
              "        [5.1, 3.7, 1.5, 0.4],\n",
              "        [4.6, 3.6, 1. , 0.2],\n",
              "        [5.1, 3.3, 1.7, 0.5],\n",
              "        [4.8, 3.4, 1.9, 0.2],\n",
              "        [5. , 3. , 1.6, 0.2],\n",
              "        [5. , 3.4, 1.6, 0.4],\n",
              "        [5.2, 3.5, 1.5, 0.2],\n",
              "        [5.2, 3.4, 1.4, 0.2],\n",
              "        [4.7, 3.2, 1.6, 0.2],\n",
              "        [4.8, 3.1, 1.6, 0.2],\n",
              "        [5.4, 3.4, 1.5, 0.4],\n",
              "        [5.2, 4.1, 1.5, 0.1],\n",
              "        [5.5, 4.2, 1.4, 0.2],\n",
              "        [4.9, 3.1, 1.5, 0.2],\n",
              "        [5. , 3.2, 1.2, 0.2],\n",
              "        [5.5, 3.5, 1.3, 0.2],\n",
              "        [4.9, 3.6, 1.4, 0.1],\n",
              "        [4.4, 3. , 1.3, 0.2],\n",
              "        [5.1, 3.4, 1.5, 0.2],\n",
              "        [5. , 3.5, 1.3, 0.3],\n",
              "        [4.5, 2.3, 1.3, 0.3],\n",
              "        [4.4, 3.2, 1.3, 0.2],\n",
              "        [5. , 3.5, 1.6, 0.6],\n",
              "        [5.1, 3.8, 1.9, 0.4],\n",
              "        [4.8, 3. , 1.4, 0.3],\n",
              "        [5.1, 3.8, 1.6, 0.2],\n",
              "        [4.6, 3.2, 1.4, 0.2],\n",
              "        [5.3, 3.7, 1.5, 0.2],\n",
              "        [5. , 3.3, 1.4, 0.2],\n",
              "        [7. , 3.2, 4.7, 1.4],\n",
              "        [6.4, 3.2, 4.5, 1.5],\n",
              "        [6.9, 3.1, 4.9, 1.5],\n",
              "        [5.5, 2.3, 4. , 1.3],\n",
              "        [6.5, 2.8, 4.6, 1.5],\n",
              "        [5.7, 2.8, 4.5, 1.3],\n",
              "        [6.3, 3.3, 4.7, 1.6],\n",
              "        [4.9, 2.4, 3.3, 1. ],\n",
              "        [6.6, 2.9, 4.6, 1.3],\n",
              "        [5.2, 2.7, 3.9, 1.4],\n",
              "        [5. , 2. , 3.5, 1. ],\n",
              "        [5.9, 3. , 4.2, 1.5],\n",
              "        [6. , 2.2, 4. , 1. ],\n",
              "        [6.1, 2.9, 4.7, 1.4],\n",
              "        [5.6, 2.9, 3.6, 1.3],\n",
              "        [6.7, 3.1, 4.4, 1.4],\n",
              "        [5.6, 3. , 4.5, 1.5],\n",
              "        [5.8, 2.7, 4.1, 1. ],\n",
              "        [6.2, 2.2, 4.5, 1.5],\n",
              "        [5.6, 2.5, 3.9, 1.1],\n",
              "        [5.9, 3.2, 4.8, 1.8],\n",
              "        [6.1, 2.8, 4. , 1.3],\n",
              "        [6.3, 2.5, 4.9, 1.5],\n",
              "        [6.1, 2.8, 4.7, 1.2],\n",
              "        [6.4, 2.9, 4.3, 1.3],\n",
              "        [6.6, 3. , 4.4, 1.4],\n",
              "        [6.8, 2.8, 4.8, 1.4],\n",
              "        [6.7, 3. , 5. , 1.7],\n",
              "        [6. , 2.9, 4.5, 1.5],\n",
              "        [5.7, 2.6, 3.5, 1. ],\n",
              "        [5.5, 2.4, 3.8, 1.1],\n",
              "        [5.5, 2.4, 3.7, 1. ],\n",
              "        [5.8, 2.7, 3.9, 1.2],\n",
              "        [6. , 2.7, 5.1, 1.6],\n",
              "        [5.4, 3. , 4.5, 1.5],\n",
              "        [6. , 3.4, 4.5, 1.6],\n",
              "        [6.7, 3.1, 4.7, 1.5],\n",
              "        [6.3, 2.3, 4.4, 1.3],\n",
              "        [5.6, 3. , 4.1, 1.3],\n",
              "        [5.5, 2.5, 4. , 1.3],\n",
              "        [5.5, 2.6, 4.4, 1.2],\n",
              "        [6.1, 3. , 4.6, 1.4],\n",
              "        [5.8, 2.6, 4. , 1.2],\n",
              "        [5. , 2.3, 3.3, 1. ],\n",
              "        [5.6, 2.7, 4.2, 1.3],\n",
              "        [5.7, 3. , 4.2, 1.2],\n",
              "        [5.7, 2.9, 4.2, 1.3],\n",
              "        [6.2, 2.9, 4.3, 1.3],\n",
              "        [5.1, 2.5, 3. , 1.1],\n",
              "        [5.7, 2.8, 4.1, 1.3],\n",
              "        [6.3, 3.3, 6. , 2.5],\n",
              "        [5.8, 2.7, 5.1, 1.9],\n",
              "        [7.1, 3. , 5.9, 2.1],\n",
              "        [6.3, 2.9, 5.6, 1.8],\n",
              "        [6.5, 3. , 5.8, 2.2],\n",
              "        [7.6, 3. , 6.6, 2.1],\n",
              "        [4.9, 2.5, 4.5, 1.7],\n",
              "        [7.3, 2.9, 6.3, 1.8],\n",
              "        [6.7, 2.5, 5.8, 1.8],\n",
              "        [7.2, 3.6, 6.1, 2.5],\n",
              "        [6.5, 3.2, 5.1, 2. ],\n",
              "        [6.4, 2.7, 5.3, 1.9],\n",
              "        [6.8, 3. , 5.5, 2.1],\n",
              "        [5.7, 2.5, 5. , 2. ],\n",
              "        [5.8, 2.8, 5.1, 2.4],\n",
              "        [6.4, 3.2, 5.3, 2.3],\n",
              "        [6.5, 3. , 5.5, 1.8],\n",
              "        [7.7, 3.8, 6.7, 2.2],\n",
              "        [7.7, 2.6, 6.9, 2.3],\n",
              "        [6. , 2.2, 5. , 1.5],\n",
              "        [6.9, 3.2, 5.7, 2.3],\n",
              "        [5.6, 2.8, 4.9, 2. ],\n",
              "        [7.7, 2.8, 6.7, 2. ],\n",
              "        [6.3, 2.7, 4.9, 1.8],\n",
              "        [6.7, 3.3, 5.7, 2.1],\n",
              "        [7.2, 3.2, 6. , 1.8],\n",
              "        [6.2, 2.8, 4.8, 1.8],\n",
              "        [6.1, 3. , 4.9, 1.8],\n",
              "        [6.4, 2.8, 5.6, 2.1],\n",
              "        [7.2, 3. , 5.8, 1.6],\n",
              "        [7.4, 2.8, 6.1, 1.9],\n",
              "        [7.9, 3.8, 6.4, 2. ],\n",
              "        [6.4, 2.8, 5.6, 2.2],\n",
              "        [6.3, 2.8, 5.1, 1.5],\n",
              "        [6.1, 2.6, 5.6, 1.4],\n",
              "        [7.7, 3. , 6.1, 2.3],\n",
              "        [6.3, 3.4, 5.6, 2.4],\n",
              "        [6.4, 3.1, 5.5, 1.8],\n",
              "        [6. , 3. , 4.8, 1.8],\n",
              "        [6.9, 3.1, 5.4, 2.1],\n",
              "        [6.7, 3.1, 5.6, 2.4],\n",
              "        [6.9, 3.1, 5.1, 2.3],\n",
              "        [5.8, 2.7, 5.1, 1.9],\n",
              "        [6.8, 3.2, 5.9, 2.3],\n",
              "        [6.7, 3.3, 5.7, 2.5],\n",
              "        [6.7, 3. , 5.2, 2.3],\n",
              "        [6.3, 2.5, 5. , 1.9],\n",
              "        [6.5, 3. , 5.2, 2. ],\n",
              "        [6.2, 3.4, 5.4, 2.3],\n",
              "        [5.9, 3. , 5.1, 1.8]]),\n",
              " 'target': array([0, 0, 0, 0, 0, 0, 0, 0, 0, 0, 0, 0, 0, 0, 0, 0, 0, 0, 0, 0, 0, 0,\n",
              "        0, 0, 0, 0, 0, 0, 0, 0, 0, 0, 0, 0, 0, 0, 0, 0, 0, 0, 0, 0, 0, 0,\n",
              "        0, 0, 0, 0, 0, 0, 1, 1, 1, 1, 1, 1, 1, 1, 1, 1, 1, 1, 1, 1, 1, 1,\n",
              "        1, 1, 1, 1, 1, 1, 1, 1, 1, 1, 1, 1, 1, 1, 1, 1, 1, 1, 1, 1, 1, 1,\n",
              "        1, 1, 1, 1, 1, 1, 1, 1, 1, 1, 1, 1, 2, 2, 2, 2, 2, 2, 2, 2, 2, 2,\n",
              "        2, 2, 2, 2, 2, 2, 2, 2, 2, 2, 2, 2, 2, 2, 2, 2, 2, 2, 2, 2, 2, 2,\n",
              "        2, 2, 2, 2, 2, 2, 2, 2, 2, 2, 2, 2, 2, 2, 2, 2, 2, 2]),\n",
              " 'frame': None,\n",
              " 'target_names': array(['setosa', 'versicolor', 'virginica'], dtype='<U10'),\n",
              " 'DESCR': '.. _iris_dataset:\\n\\nIris plants dataset\\n--------------------\\n\\n**Data Set Characteristics:**\\n\\n    :Number of Instances: 150 (50 in each of three classes)\\n    :Number of Attributes: 4 numeric, predictive attributes and the class\\n    :Attribute Information:\\n        - sepal length in cm\\n        - sepal width in cm\\n        - petal length in cm\\n        - petal width in cm\\n        - class:\\n                - Iris-Setosa\\n                - Iris-Versicolour\\n                - Iris-Virginica\\n                \\n    :Summary Statistics:\\n\\n    ============== ==== ==== ======= ===== ====================\\n                    Min  Max   Mean    SD   Class Correlation\\n    ============== ==== ==== ======= ===== ====================\\n    sepal length:   4.3  7.9   5.84   0.83    0.7826\\n    sepal width:    2.0  4.4   3.05   0.43   -0.4194\\n    petal length:   1.0  6.9   3.76   1.76    0.9490  (high!)\\n    petal width:    0.1  2.5   1.20   0.76    0.9565  (high!)\\n    ============== ==== ==== ======= ===== ====================\\n\\n    :Missing Attribute Values: None\\n    :Class Distribution: 33.3% for each of 3 classes.\\n    :Creator: R.A. Fisher\\n    :Donor: Michael Marshall (MARSHALL%PLU@io.arc.nasa.gov)\\n    :Date: July, 1988\\n\\nThe famous Iris database, first used by Sir R.A. Fisher. The dataset is taken\\nfrom Fisher\\'s paper. Note that it\\'s the same as in R, but not as in the UCI\\nMachine Learning Repository, which has two wrong data points.\\n\\nThis is perhaps the best known database to be found in the\\npattern recognition literature.  Fisher\\'s paper is a classic in the field and\\nis referenced frequently to this day.  (See Duda & Hart, for example.)  The\\ndata set contains 3 classes of 50 instances each, where each class refers to a\\ntype of iris plant.  One class is linearly separable from the other 2; the\\nlatter are NOT linearly separable from each other.\\n\\n.. topic:: References\\n\\n   - Fisher, R.A. \"The use of multiple measurements in taxonomic problems\"\\n     Annual Eugenics, 7, Part II, 179-188 (1936); also in \"Contributions to\\n     Mathematical Statistics\" (John Wiley, NY, 1950).\\n   - Duda, R.O., & Hart, P.E. (1973) Pattern Classification and Scene Analysis.\\n     (Q327.D83) John Wiley & Sons.  ISBN 0-471-22361-1.  See page 218.\\n   - Dasarathy, B.V. (1980) \"Nosing Around the Neighborhood: A New System\\n     Structure and Classification Rule for Recognition in Partially Exposed\\n     Environments\".  IEEE Transactions on Pattern Analysis and Machine\\n     Intelligence, Vol. PAMI-2, No. 1, 67-71.\\n   - Gates, G.W. (1972) \"The Reduced Nearest Neighbor Rule\".  IEEE Transactions\\n     on Information Theory, May 1972, 431-433.\\n   - See also: 1988 MLC Proceedings, 54-64.  Cheeseman et al\"s AUTOCLASS II\\n     conceptual clustering system finds 3 classes in the data.\\n   - Many, many more ...',\n",
              " 'feature_names': ['sepal length (cm)',\n",
              "  'sepal width (cm)',\n",
              "  'petal length (cm)',\n",
              "  'petal width (cm)'],\n",
              " 'filename': 'iris.csv',\n",
              " 'data_module': 'sklearn.datasets.data'}"
            ]
          },
          "metadata": {},
          "execution_count": 18
        }
      ]
    },
    {
      "cell_type": "code",
      "metadata": {
        "id": "BYmYIIDCyHxn"
      },
      "source": [
        "X = iris_data['data']\n",
        "Y = iris_data['target']"
      ],
      "execution_count": 19,
      "outputs": []
    },
    {
      "cell_type": "markdown",
      "metadata": {
        "id": "qlPVVtKEv-Mz"
      },
      "source": [
        "# Train Model"
      ]
    },
    {
      "cell_type": "markdown",
      "metadata": {
        "id": "BpHaEEyGxT77"
      },
      "source": [
        "## import"
      ]
    },
    {
      "cell_type": "code",
      "metadata": {
        "id": "nhNT3lygxPkr"
      },
      "source": [
        "from sklearn.tree import DecisionTreeClassifier"
      ],
      "execution_count": 20,
      "outputs": []
    },
    {
      "cell_type": "markdown",
      "metadata": {
        "id": "jmtA6w1LxT46"
      },
      "source": [
        "## define"
      ]
    },
    {
      "cell_type": "code",
      "metadata": {
        "id": "n-uZ5-GYxPbh"
      },
      "source": [
        "mytree = DecisionTreeClassifier()"
      ],
      "execution_count": 21,
      "outputs": []
    },
    {
      "cell_type": "markdown",
      "metadata": {
        "id": "3D38okMmxT1x"
      },
      "source": [
        "## train"
      ]
    },
    {
      "cell_type": "code",
      "metadata": {
        "colab": {
          "base_uri": "https://localhost:8080/",
          "height": 74
        },
        "id": "6kVuF5kYxPVq",
        "outputId": "50661473-13f5-4248-b59c-6d78637467fc"
      },
      "source": [
        "mytree.fit(X,Y)"
      ],
      "execution_count": 22,
      "outputs": [
        {
          "output_type": "execute_result",
          "data": {
            "text/plain": [
              "DecisionTreeClassifier()"
            ],
            "text/html": [
              "<style>#sk-container-id-2 {color: black;background-color: white;}#sk-container-id-2 pre{padding: 0;}#sk-container-id-2 div.sk-toggleable {background-color: white;}#sk-container-id-2 label.sk-toggleable__label {cursor: pointer;display: block;width: 100%;margin-bottom: 0;padding: 0.3em;box-sizing: border-box;text-align: center;}#sk-container-id-2 label.sk-toggleable__label-arrow:before {content: \"▸\";float: left;margin-right: 0.25em;color: #696969;}#sk-container-id-2 label.sk-toggleable__label-arrow:hover:before {color: black;}#sk-container-id-2 div.sk-estimator:hover label.sk-toggleable__label-arrow:before {color: black;}#sk-container-id-2 div.sk-toggleable__content {max-height: 0;max-width: 0;overflow: hidden;text-align: left;background-color: #f0f8ff;}#sk-container-id-2 div.sk-toggleable__content pre {margin: 0.2em;color: black;border-radius: 0.25em;background-color: #f0f8ff;}#sk-container-id-2 input.sk-toggleable__control:checked~div.sk-toggleable__content {max-height: 200px;max-width: 100%;overflow: auto;}#sk-container-id-2 input.sk-toggleable__control:checked~label.sk-toggleable__label-arrow:before {content: \"▾\";}#sk-container-id-2 div.sk-estimator input.sk-toggleable__control:checked~label.sk-toggleable__label {background-color: #d4ebff;}#sk-container-id-2 div.sk-label input.sk-toggleable__control:checked~label.sk-toggleable__label {background-color: #d4ebff;}#sk-container-id-2 input.sk-hidden--visually {border: 0;clip: rect(1px 1px 1px 1px);clip: rect(1px, 1px, 1px, 1px);height: 1px;margin: -1px;overflow: hidden;padding: 0;position: absolute;width: 1px;}#sk-container-id-2 div.sk-estimator {font-family: monospace;background-color: #f0f8ff;border: 1px dotted black;border-radius: 0.25em;box-sizing: border-box;margin-bottom: 0.5em;}#sk-container-id-2 div.sk-estimator:hover {background-color: #d4ebff;}#sk-container-id-2 div.sk-parallel-item::after {content: \"\";width: 100%;border-bottom: 1px solid gray;flex-grow: 1;}#sk-container-id-2 div.sk-label:hover label.sk-toggleable__label {background-color: #d4ebff;}#sk-container-id-2 div.sk-serial::before {content: \"\";position: absolute;border-left: 1px solid gray;box-sizing: border-box;top: 0;bottom: 0;left: 50%;z-index: 0;}#sk-container-id-2 div.sk-serial {display: flex;flex-direction: column;align-items: center;background-color: white;padding-right: 0.2em;padding-left: 0.2em;position: relative;}#sk-container-id-2 div.sk-item {position: relative;z-index: 1;}#sk-container-id-2 div.sk-parallel {display: flex;align-items: stretch;justify-content: center;background-color: white;position: relative;}#sk-container-id-2 div.sk-item::before, #sk-container-id-2 div.sk-parallel-item::before {content: \"\";position: absolute;border-left: 1px solid gray;box-sizing: border-box;top: 0;bottom: 0;left: 50%;z-index: -1;}#sk-container-id-2 div.sk-parallel-item {display: flex;flex-direction: column;z-index: 1;position: relative;background-color: white;}#sk-container-id-2 div.sk-parallel-item:first-child::after {align-self: flex-end;width: 50%;}#sk-container-id-2 div.sk-parallel-item:last-child::after {align-self: flex-start;width: 50%;}#sk-container-id-2 div.sk-parallel-item:only-child::after {width: 0;}#sk-container-id-2 div.sk-dashed-wrapped {border: 1px dashed gray;margin: 0 0.4em 0.5em 0.4em;box-sizing: border-box;padding-bottom: 0.4em;background-color: white;}#sk-container-id-2 div.sk-label label {font-family: monospace;font-weight: bold;display: inline-block;line-height: 1.2em;}#sk-container-id-2 div.sk-label-container {text-align: center;}#sk-container-id-2 div.sk-container {/* jupyter's `normalize.less` sets `[hidden] { display: none; }` but bootstrap.min.css set `[hidden] { display: none !important; }` so we also need the `!important` here to be able to override the default hidden behavior on the sphinx rendered scikit-learn.org. See: https://github.com/scikit-learn/scikit-learn/issues/21755 */display: inline-block !important;position: relative;}#sk-container-id-2 div.sk-text-repr-fallback {display: none;}</style><div id=\"sk-container-id-2\" class=\"sk-top-container\"><div class=\"sk-text-repr-fallback\"><pre>DecisionTreeClassifier()</pre><b>In a Jupyter environment, please rerun this cell to show the HTML representation or trust the notebook. <br />On GitHub, the HTML representation is unable to render, please try loading this page with nbviewer.org.</b></div><div class=\"sk-container\" hidden><div class=\"sk-item\"><div class=\"sk-estimator sk-toggleable\"><input class=\"sk-toggleable__control sk-hidden--visually\" id=\"sk-estimator-id-2\" type=\"checkbox\" checked><label for=\"sk-estimator-id-2\" class=\"sk-toggleable__label sk-toggleable__label-arrow\">DecisionTreeClassifier</label><div class=\"sk-toggleable__content\"><pre>DecisionTreeClassifier()</pre></div></div></div></div></div>"
            ]
          },
          "metadata": {},
          "execution_count": 22
        }
      ]
    },
    {
      "cell_type": "markdown",
      "metadata": {
        "id": "sqgZkQ_fyVHp"
      },
      "source": [
        "## plot tree"
      ]
    },
    {
      "cell_type": "code",
      "metadata": {
        "id": "evT0Mq-IyUw3"
      },
      "source": [
        "from sklearn.tree import plot_tree"
      ],
      "execution_count": 23,
      "outputs": []
    },
    {
      "cell_type": "code",
      "metadata": {
        "colab": {
          "base_uri": "https://localhost:8080/",
          "height": 701
        },
        "id": "DrBHCXnhyfzY",
        "outputId": "8fb64586-6edb-4d33-ca60-0adb6fbfff13"
      },
      "source": [
        "plot_tree(mytree)"
      ],
      "execution_count": 24,
      "outputs": [
        {
          "output_type": "execute_result",
          "data": {
            "text/plain": [
              "[Text(0.5, 0.9166666666666666, 'x[3] <= 0.8\\ngini = 0.667\\nsamples = 150\\nvalue = [50, 50, 50]'),\n",
              " Text(0.4230769230769231, 0.75, 'gini = 0.0\\nsamples = 50\\nvalue = [50, 0, 0]'),\n",
              " Text(0.5769230769230769, 0.75, 'x[3] <= 1.75\\ngini = 0.5\\nsamples = 100\\nvalue = [0, 50, 50]'),\n",
              " Text(0.3076923076923077, 0.5833333333333334, 'x[2] <= 4.95\\ngini = 0.168\\nsamples = 54\\nvalue = [0, 49, 5]'),\n",
              " Text(0.15384615384615385, 0.4166666666666667, 'x[3] <= 1.65\\ngini = 0.041\\nsamples = 48\\nvalue = [0, 47, 1]'),\n",
              " Text(0.07692307692307693, 0.25, 'gini = 0.0\\nsamples = 47\\nvalue = [0, 47, 0]'),\n",
              " Text(0.23076923076923078, 0.25, 'gini = 0.0\\nsamples = 1\\nvalue = [0, 0, 1]'),\n",
              " Text(0.46153846153846156, 0.4166666666666667, 'x[3] <= 1.55\\ngini = 0.444\\nsamples = 6\\nvalue = [0, 2, 4]'),\n",
              " Text(0.38461538461538464, 0.25, 'gini = 0.0\\nsamples = 3\\nvalue = [0, 0, 3]'),\n",
              " Text(0.5384615384615384, 0.25, 'x[0] <= 6.95\\ngini = 0.444\\nsamples = 3\\nvalue = [0, 2, 1]'),\n",
              " Text(0.46153846153846156, 0.08333333333333333, 'gini = 0.0\\nsamples = 2\\nvalue = [0, 2, 0]'),\n",
              " Text(0.6153846153846154, 0.08333333333333333, 'gini = 0.0\\nsamples = 1\\nvalue = [0, 0, 1]'),\n",
              " Text(0.8461538461538461, 0.5833333333333334, 'x[2] <= 4.85\\ngini = 0.043\\nsamples = 46\\nvalue = [0, 1, 45]'),\n",
              " Text(0.7692307692307693, 0.4166666666666667, 'x[1] <= 3.1\\ngini = 0.444\\nsamples = 3\\nvalue = [0, 1, 2]'),\n",
              " Text(0.6923076923076923, 0.25, 'gini = 0.0\\nsamples = 2\\nvalue = [0, 0, 2]'),\n",
              " Text(0.8461538461538461, 0.25, 'gini = 0.0\\nsamples = 1\\nvalue = [0, 1, 0]'),\n",
              " Text(0.9230769230769231, 0.4166666666666667, 'gini = 0.0\\nsamples = 43\\nvalue = [0, 0, 43]')]"
            ]
          },
          "metadata": {},
          "execution_count": 24
        },
        {
          "output_type": "display_data",
          "data": {
            "text/plain": [
              "<Figure size 640x480 with 1 Axes>"
            ],
            "image/png": "[encoded data removed]"
          },
          "metadata": {}
        }
      ]
    },
    {
      "cell_type": "markdown",
      "metadata": {
        "id": "Bt6g9d4wv-Jc"
      },
      "source": [
        "# Evaluation"
      ]
    },
    {
      "cell_type": "code",
      "metadata": {
        "colab": {
          "base_uri": "https://localhost:8080/",
          "height": 34
        },
        "id": "al1CHvjJdTxb",
        "outputId": "adc5c110-435b-4368-8efe-ea9300eb9f3c"
      },
      "source": [
        "import numpy as np\n",
        "\n",
        "np.random.choice(['kie','oil','nicha'])"
      ],
      "execution_count": 25,
      "outputs": [
        {
          "output_type": "execute_result",
          "data": {
            "text/plain": [
              "'kie'"
            ],
            "application/vnd.google.colaboratory.intrinsic+json": {
              "type": "string"
            }
          },
          "metadata": {},
          "execution_count": 25
        }
      ]
    },
    {
      "cell_type": "code",
      "metadata": {
        "colab": {
          "base_uri": "https://localhost:8080/",
          "height": 34
        },
        "id": "Dr4GSptodTj2",
        "outputId": "b901168a-cebd-41f0-a91c-8e865d8feafd"
      },
      "source": [
        "np.random.seed(6)\n",
        "np.random.choice(['kie','oil','nicha'])"
      ],
      "execution_count": 26,
      "outputs": [
        {
          "output_type": "execute_result",
          "data": {
            "text/plain": [
              "'nicha'"
            ],
            "application/vnd.google.colaboratory.intrinsic+json": {
              "type": "string"
            }
          },
          "metadata": {},
          "execution_count": 26
        }
      ]
    },
    {
      "cell_type": "markdown",
      "metadata": {
        "id": "Czs1jeZEmguh"
      },
      "source": [
        "# Advanced Tree"
      ]
    },
    {
      "cell_type": "markdown",
      "metadata": {
        "id": "dSL0RXlQmzIY"
      },
      "source": [
        "## load data"
      ]
    },
    {
      "cell_type": "code",
      "metadata": {
        "id": "kezc9xEJiD3v"
      },
      "source": [
        "from sklearn import datasets"
      ],
      "execution_count": 27,
      "outputs": []
    },
    {
      "cell_type": "code",
      "metadata": {
        "id": "wmk5b-X6m21y"
      },
      "source": [
        "mnist_data = datasets.load_digits()"
      ],
      "execution_count": 28,
      "outputs": []
    },
    {
      "cell_type": "code",
      "metadata": {
        "id": "5lJYhxB8m-96"
      },
      "source": [
        "#mnist_data"
      ],
      "execution_count": 29,
      "outputs": []
    },
    {
      "cell_type": "code",
      "metadata": {
        "colab": {
          "base_uri": "https://localhost:8080/"
        },
        "id": "1KlScvW1nBEN",
        "outputId": "55c6d9f5-8785-45e1-ce67-37a3cba76d26"
      },
      "source": [
        "X = mnist_data['data']\n",
        "X.shape"
      ],
      "execution_count": 30,
      "outputs": [
        {
          "output_type": "execute_result",
          "data": {
            "text/plain": [
              "(1797, 64)"
            ]
          },
          "metadata": {},
          "execution_count": 30
        }
      ]
    },
    {
      "cell_type": "code",
      "metadata": {
        "colab": {
          "base_uri": "https://localhost:8080/"
        },
        "id": "IJWJlf6_nwhj",
        "outputId": "8069f48e-f7ed-4a1a-adbd-713982812d56"
      },
      "source": [
        "X[0,:]"
      ],
      "execution_count": 31,
      "outputs": [
        {
          "output_type": "execute_result",
          "data": {
            "text/plain": [
              "array([ 0.,  0.,  5., 13.,  9.,  1.,  0.,  0.,  0.,  0., 13., 15., 10.,\n",
              "       15.,  5.,  0.,  0.,  3., 15.,  2.,  0., 11.,  8.,  0.,  0.,  4.,\n",
              "       12.,  0.,  0.,  8.,  8.,  0.,  0.,  5.,  8.,  0.,  0.,  9.,  8.,\n",
              "        0.,  0.,  4., 11.,  0.,  1., 12.,  7.,  0.,  0.,  2., 14.,  5.,\n",
              "       10., 12.,  0.,  0.,  0.,  0.,  6., 13., 10.,  0.,  0.,  0.])"
            ]
          },
          "metadata": {},
          "execution_count": 31
        }
      ]
    },
    {
      "cell_type": "code",
      "metadata": {
        "id": "RHF4c1wAXmGV",
        "outputId": "8044733b-ea7d-4421-c956-5938804273fa",
        "colab": {
          "base_uri": "https://localhost:8080/"
        }
      },
      "source": [
        "X[0,:].shape"
      ],
      "execution_count": 32,
      "outputs": [
        {
          "output_type": "execute_result",
          "data": {
            "text/plain": [
              "(64,)"
            ]
          },
          "metadata": {},
          "execution_count": 32
        }
      ]
    },
    {
      "cell_type": "code",
      "metadata": {
        "id": "OyjAq9TtXvKn",
        "outputId": "bf1242d9-1dbf-4043-b013-5588da6782a2",
        "colab": {
          "base_uri": "https://localhost:8080/",
          "height": 447
        }
      },
      "source": [
        "from matplotlib import pyplot as plt\n",
        "import numpy as np\n",
        "\n",
        "plt.imshow(X[112,:].reshape([8,8]),cmap='gray')"
      ],
      "execution_count": 33,
      "outputs": [
        {
          "output_type": "execute_result",
          "data": {
            "text/plain": [
              "<matplotlib.image.AxesImage at 0x7cb880b942b0>"
            ]
          },
          "metadata": {},
          "execution_count": 33
        },
        {
          "output_type": "display_data",
          "data": {
            "text/plain": [
              "<Figure size 640x480 with 1 Axes>"
            ],
            "image/png": "[encoded data removed]"
          },
          "metadata": {}
        }
      ]
    },
    {
      "cell_type": "code",
      "metadata": {
        "colab": {
          "base_uri": "https://localhost:8080/"
        },
        "id": "88fcASJln_Iy",
        "outputId": "2d8758b4-ceb9-4917-ac97-2193169b3faf"
      },
      "source": [
        "np.max(X)"
      ],
      "execution_count": 34,
      "outputs": [
        {
          "output_type": "execute_result",
          "data": {
            "text/plain": [
              "16.0"
            ]
          },
          "metadata": {},
          "execution_count": 34
        }
      ]
    },
    {
      "cell_type": "code",
      "metadata": {
        "colab": {
          "base_uri": "https://localhost:8080/"
        },
        "id": "Qjzfo53inP9m",
        "outputId": "9ad0ea3d-94fb-4cf9-e23c-87b951be31d7"
      },
      "source": [
        "Y = mnist_data['target']\n",
        "Y.shape"
      ],
      "execution_count": 35,
      "outputs": [
        {
          "output_type": "execute_result",
          "data": {
            "text/plain": [
              "(1797,)"
            ]
          },
          "metadata": {},
          "execution_count": 35
        }
      ]
    },
    {
      "cell_type": "code",
      "metadata": {
        "id": "twVGS6xjYC3E",
        "outputId": "42cbdb64-90c6-45aa-f900-a141b05dab0b",
        "colab": {
          "base_uri": "https://localhost:8080/"
        }
      },
      "source": [
        "Y[112]"
      ],
      "execution_count": 36,
      "outputs": [
        {
          "output_type": "execute_result",
          "data": {
            "text/plain": [
              "7"
            ]
          },
          "metadata": {},
          "execution_count": 36
        }
      ]
    },
    {
      "cell_type": "markdown",
      "metadata": {
        "id": "j9Vvg1PMojDP"
      },
      "source": [
        "## แบ่ง test เอาไว้วัดผลอย่างเดียว"
      ]
    },
    {
      "cell_type": "code",
      "metadata": {
        "id": "EIONx4G7npjx"
      },
      "source": [
        "from sklearn.model_selection import train_test_split"
      ],
      "execution_count": 37,
      "outputs": []
    },
    {
      "cell_type": "code",
      "metadata": {
        "id": "Ouq0HIT1op2k"
      },
      "source": [
        "X_train, X_test, y_train, y_test = train_test_split(X, Y, test_size=0.5, random_state=6)"
      ],
      "execution_count": 38,
      "outputs": []
    },
    {
      "cell_type": "code",
      "metadata": {
        "colab": {
          "base_uri": "https://localhost:8080/"
        },
        "id": "KaODb9lHpJyO",
        "outputId": "83841b46-c685-48bf-e494-387c3b9ce2c2"
      },
      "source": [
        "X_train[:5,:6]"
      ],
      "execution_count": 39,
      "outputs": [
        {
          "output_type": "execute_result",
          "data": {
            "text/plain": [
              "array([[ 0.,  0.,  8., 15.,  9.,  0.],\n",
              "       [ 0.,  0.,  0.,  9., 11.,  0.],\n",
              "       [ 0.,  1., 12., 16., 16., 16.],\n",
              "       [ 0.,  0., 12., 14.,  6.,  0.],\n",
              "       [ 0.,  0.,  1.,  8.,  8.,  9.]])"
            ]
          },
          "metadata": {},
          "execution_count": 39
        }
      ]
    },
    {
      "cell_type": "markdown",
      "metadata": {
        "id": "wR7gwkU0pb3A"
      },
      "source": [
        "## เริ่มสร้างโมเดล"
      ]
    },
    {
      "cell_type": "markdown",
      "metadata": {
        "id": "aiyKyCawqakO"
      },
      "source": [
        "### หา validation set"
      ]
    },
    {
      "cell_type": "code",
      "metadata": {
        "id": "E4p3cUmDqgQZ"
      },
      "source": [
        "X_traintrain, X_val, y_traintrain, y_val = train_test_split(X_train, y_train, test_size=0.3, random_state=6)"
      ],
      "execution_count": 40,
      "outputs": []
    },
    {
      "cell_type": "code",
      "metadata": {
        "colab": {
          "base_uri": "https://localhost:8080/"
        },
        "id": "OpQTFXPmq1f8",
        "outputId": "3135427d-766f-4a30-bd94-07f4b70884e0"
      },
      "source": [
        "X_traintrain[:5,:7]"
      ],
      "execution_count": 41,
      "outputs": [
        {
          "output_type": "execute_result",
          "data": {
            "text/plain": [
              "array([[ 0.,  0.,  9., 16., 10.,  2.,  0.],\n",
              "       [ 0.,  1., 15.,  4.,  0.,  0.,  0.],\n",
              "       [ 0.,  0.,  4., 14., 16., 15.,  1.],\n",
              "       [ 0.,  0.,  3., 11., 14., 12.,  3.],\n",
              "       [ 0.,  0.,  5., 12., 16., 15.,  0.]])"
            ]
          },
          "metadata": {},
          "execution_count": 41
        }
      ]
    },
    {
      "cell_type": "markdown",
      "metadata": {
        "id": "UaxIPPLhpkIE"
      },
      "source": [
        "1. ใช้ Entropy มี ความสูงไม่เกิน 4 ชั้น (Oil)\n",
        "2. ใช้ Gini และ leaf node ต้องมีจำนวน data ไม่น้อยกว่า 5 (Nicha)\n",
        "3. ใช้ Entropy และ มี จำนวน leaf node ไม่เกิน 15 (Kie)"
      ]
    },
    {
      "cell_type": "markdown",
      "metadata": {
        "id": "8qxQ4Pg8rEtl"
      },
      "source": [
        "Import"
      ]
    },
    {
      "cell_type": "code",
      "metadata": {
        "id": "2uOTuYvvrl3I"
      },
      "source": [
        "from sklearn.tree import DecisionTreeClassifier"
      ],
      "execution_count": 42,
      "outputs": []
    },
    {
      "cell_type": "markdown",
      "metadata": {
        "id": "u1t4nIQJriTh"
      },
      "source": [
        "Define"
      ]
    },
    {
      "cell_type": "code",
      "metadata": {
        "id": "DoLfFXOhruAI"
      },
      "source": [
        "mytree0 = DecisionTreeClassifier(criterion='gini',max_depth=7,min_samples_split=30,min_samples_leaf=5)"
      ],
      "execution_count": 43,
      "outputs": []
    },
    {
      "cell_type": "markdown",
      "metadata": {
        "id": "62-lw-5srjw5"
      },
      "source": [
        "Train"
      ]
    },
    {
      "cell_type": "code",
      "metadata": {
        "colab": {
          "base_uri": "https://localhost:8080/",
          "height": 74
        },
        "id": "Xoojwdr4rEMM",
        "outputId": "10852068-0192-4ccd-f589-c14c54b78220"
      },
      "source": [
        "mytree0.fit(X_traintrain,y_traintrain)"
      ],
      "execution_count": 44,
      "outputs": [
        {
          "output_type": "execute_result",
          "data": {
            "text/plain": [
              "DecisionTreeClassifier(max_depth=7, min_samples_leaf=5, min_samples_split=30)"
            ],
            "text/html": [
              "<style>#sk-container-id-3 {color: black;background-color: white;}#sk-container-id-3 pre{padding: 0;}#sk-container-id-3 div.sk-toggleable {background-color: white;}#sk-container-id-3 label.sk-toggleable__label {cursor: pointer;display: block;width: 100%;margin-bottom: 0;padding: 0.3em;box-sizing: border-box;text-align: center;}#sk-container-id-3 label.sk-toggleable__label-arrow:before {content: \"▸\";float: left;margin-right: 0.25em;color: #696969;}#sk-container-id-3 label.sk-toggleable__label-arrow:hover:before {color: black;}#sk-container-id-3 div.sk-estimator:hover label.sk-toggleable__label-arrow:before {color: black;}#sk-container-id-3 div.sk-toggleable__content {max-height: 0;max-width: 0;overflow: hidden;text-align: left;background-color: #f0f8ff;}#sk-container-id-3 div.sk-toggleable__content pre {margin: 0.2em;color: black;border-radius: 0.25em;background-color: #f0f8ff;}#sk-container-id-3 input.sk-toggleable__control:checked~div.sk-toggleable__content {max-height: 200px;max-width: 100%;overflow: auto;}#sk-container-id-3 input.sk-toggleable__control:checked~label.sk-toggleable__label-arrow:before {content: \"▾\";}#sk-container-id-3 div.sk-estimator input.sk-toggleable__control:checked~label.sk-toggleable__label {background-color: #d4ebff;}#sk-container-id-3 div.sk-label input.sk-toggleable__control:checked~label.sk-toggleable__label {background-color: #d4ebff;}#sk-container-id-3 input.sk-hidden--visually {border: 0;clip: rect(1px 1px 1px 1px);clip: rect(1px, 1px, 1px, 1px);height: 1px;margin: -1px;overflow: hidden;padding: 0;position: absolute;width: 1px;}#sk-container-id-3 div.sk-estimator {font-family: monospace;background-color: #f0f8ff;border: 1px dotted black;border-radius: 0.25em;box-sizing: border-box;margin-bottom: 0.5em;}#sk-container-id-3 div.sk-estimator:hover {background-color: #d4ebff;}#sk-container-id-3 div.sk-parallel-item::after {content: \"\";width: 100%;border-bottom: 1px solid gray;flex-grow: 1;}#sk-container-id-3 div.sk-label:hover label.sk-toggleable__label {background-color: #d4ebff;}#sk-container-id-3 div.sk-serial::before {content: \"\";position: absolute;border-left: 1px solid gray;box-sizing: border-box;top: 0;bottom: 0;left: 50%;z-index: 0;}#sk-container-id-3 div.sk-serial {display: flex;flex-direction: column;align-items: center;background-color: white;padding-right: 0.2em;padding-left: 0.2em;position: relative;}#sk-container-id-3 div.sk-item {position: relative;z-index: 1;}#sk-container-id-3 div.sk-parallel {display: flex;align-items: stretch;justify-content: center;background-color: white;position: relative;}#sk-container-id-3 div.sk-item::before, #sk-container-id-3 div.sk-parallel-item::before {content: \"\";position: absolute;border-left: 1px solid gray;box-sizing: border-box;top: 0;bottom: 0;left: 50%;z-index: -1;}#sk-container-id-3 div.sk-parallel-item {display: flex;flex-direction: column;z-index: 1;position: relative;background-color: white;}#sk-container-id-3 div.sk-parallel-item:first-child::after {align-self: flex-end;width: 50%;}#sk-container-id-3 div.sk-parallel-item:last-child::after {align-self: flex-start;width: 50%;}#sk-container-id-3 div.sk-parallel-item:only-child::after {width: 0;}#sk-container-id-3 div.sk-dashed-wrapped {border: 1px dashed gray;margin: 0 0.4em 0.5em 0.4em;box-sizing: border-box;padding-bottom: 0.4em;background-color: white;}#sk-container-id-3 div.sk-label label {font-family: monospace;font-weight: bold;display: inline-block;line-height: 1.2em;}#sk-container-id-3 div.sk-label-container {text-align: center;}#sk-container-id-3 div.sk-container {/* jupyter's `normalize.less` sets `[hidden] { display: none; }` but bootstrap.min.css set `[hidden] { display: none !important; }` so we also need the `!important` here to be able to override the default hidden behavior on the sphinx rendered scikit-learn.org. See: https://github.com/scikit-learn/scikit-learn/issues/21755 */display: inline-block !important;position: relative;}#sk-container-id-3 div.sk-text-repr-fallback {display: none;}</style><div id=\"sk-container-id-3\" class=\"sk-top-container\"><div class=\"sk-text-repr-fallback\"><pre>DecisionTreeClassifier(max_depth=7, min_samples_leaf=5, min_samples_split=30)</pre><b>In a Jupyter environment, please rerun this cell to show the HTML representation or trust the notebook. <br />On GitHub, the HTML representation is unable to render, please try loading this page with nbviewer.org.</b></div><div class=\"sk-container\" hidden><div class=\"sk-item\"><div class=\"sk-estimator sk-toggleable\"><input class=\"sk-toggleable__control sk-hidden--visually\" id=\"sk-estimator-id-3\" type=\"checkbox\" checked><label for=\"sk-estimator-id-3\" class=\"sk-toggleable__label sk-toggleable__label-arrow\">DecisionTreeClassifier</label><div class=\"sk-toggleable__content\"><pre>DecisionTreeClassifier(max_depth=7, min_samples_leaf=5, min_samples_split=30)</pre></div></div></div></div></div>"
            ]
          },
          "metadata": {},
          "execution_count": 44
        }
      ]
    },
    {
      "cell_type": "code",
      "metadata": {
        "colab": {
          "base_uri": "https://localhost:8080/",
          "height": 1000
        },
        "id": "rJKKUfPSpP6p",
        "outputId": "ba694644-517b-4a9e-d648-9e97a7803d90"
      },
      "source": [
        "plot_tree(mytree0)"
      ],
      "execution_count": 45,
      "outputs": [
        {
          "output_type": "execute_result",
          "data": {
            "text/plain": [
              "[Text(0.5279255319148937, 0.9375, 'x[30] <= 0.5\\ngini = 0.899\\nsamples = 628\\nvalue = [57, 70, 56, 74, 54, 61, 62, 61, 64, 69]'),\n",
              " Text(0.2579787234042553, 0.8125, 'x[20] <= 3.5\\ngini = 0.857\\nsamples = 383\\nvalue = [0, 62, 54, 68, 11, 54, 61, 12, 51, 10]'),\n",
              " Text(0.1276595744680851, 0.6875, 'x[42] <= 11.5\\ngini = 0.641\\nsamples = 122\\nvalue = [0, 3, 1, 1, 4, 43, 58, 1, 10, 1]'),\n",
              " Text(0.0851063829787234, 0.5625, 'x[21] <= 7.0\\ngini = 0.449\\nsamples = 56\\nvalue = [0, 3, 1, 1, 0, 41, 3, 1, 5, 1]'),\n",
              " Text(0.06382978723404255, 0.4375, 'x[62] <= 7.0\\ngini = 0.231\\nsamples = 47\\nvalue = [0, 3, 0, 0, 0, 41, 3, 0, 0, 0]'),\n",
              " Text(0.0425531914893617, 0.3125, 'x[61] <= 10.0\\ngini = 0.046\\nsamples = 42\\nvalue = [0, 0, 0, 0, 0, 41, 1, 0, 0, 0]'),\n",
              " Text(0.02127659574468085, 0.1875, 'gini = 0.0\\nsamples = 37\\nvalue = [0, 0, 0, 0, 0, 37, 0, 0, 0, 0]'),\n",
              " Text(0.06382978723404255, 0.1875, 'gini = 0.32\\nsamples = 5\\nvalue = [0, 0, 0, 0, 0, 4, 1, 0, 0, 0]'),\n",
              " Text(0.0851063829787234, 0.3125, 'gini = 0.48\\nsamples = 5\\nvalue = [0, 3, 0, 0, 0, 0, 2, 0, 0, 0]'),\n",
              " Text(0.10638297872340426, 0.4375, 'gini = 0.642\\nsamples = 9\\nvalue = [0, 0, 1, 1, 0, 0, 0, 1, 5, 1]'),\n",
              " Text(0.1702127659574468, 0.5625, 'x[21] <= 0.5\\ngini = 0.295\\nsamples = 66\\nvalue = [0, 0, 0, 0, 4, 2, 55, 0, 5, 0]'),\n",
              " Text(0.14893617021276595, 0.4375, 'x[61] <= 6.5\\ngini = 0.156\\nsamples = 60\\nvalue = [0, 0, 0, 0, 3, 2, 55, 0, 0, 0]'),\n",
              " Text(0.1276595744680851, 0.3125, 'gini = 0.48\\nsamples = 5\\nvalue = [0, 0, 0, 0, 3, 2, 0, 0, 0, 0]'),\n",
              " Text(0.1702127659574468, 0.3125, 'gini = 0.0\\nsamples = 55\\nvalue = [0, 0, 0, 0, 0, 0, 55, 0, 0, 0]'),\n",
              " Text(0.19148936170212766, 0.4375, 'gini = 0.278\\nsamples = 6\\nvalue = [0, 0, 0, 0, 1, 0, 0, 0, 5, 0]'),\n",
              " Text(0.3882978723404255, 0.6875, 'x[43] <= 1.5\\ngini = 0.811\\nsamples = 261\\nvalue = [0, 59, 53, 67, 7, 11, 3, 11, 41, 9]'),\n",
              " Text(0.2765957446808511, 0.5625, 'x[26] <= 3.5\\ngini = 0.521\\nsamples = 91\\nvalue = [0, 10, 0, 61, 0, 9, 0, 0, 6, 5]'),\n",
              " Text(0.23404255319148937, 0.4375, 'x[19] <= 8.5\\ngini = 0.103\\nsamples = 56\\nvalue = [0, 2, 0, 53, 0, 0, 0, 0, 1, 0]'),\n",
              " Text(0.2127659574468085, 0.3125, 'gini = 0.0\\nsamples = 50\\nvalue = [0, 0, 0, 50, 0, 0, 0, 0, 0, 0]'),\n",
              " Text(0.2553191489361702, 0.3125, 'gini = 0.611\\nsamples = 6\\nvalue = [0, 2, 0, 3, 0, 0, 0, 0, 1, 0]'),\n",
              " Text(0.3191489361702128, 0.4375, 'x[10] <= 9.0\\ngini = 0.789\\nsamples = 35\\nvalue = [0, 8, 0, 8, 0, 9, 0, 0, 5, 5]'),\n",
              " Text(0.2978723404255319, 0.3125, 'gini = 0.34\\nsamples = 10\\nvalue = [0, 8, 0, 1, 0, 0, 0, 0, 0, 1]'),\n",
              " Text(0.3404255319148936, 0.3125, 'gini = 0.726\\nsamples = 25\\nvalue = [0, 0, 0, 7, 0, 9, 0, 0, 5, 4]'),\n",
              " Text(0.5, 0.5625, 'x[19] <= 15.5\\ngini = 0.769\\nsamples = 170\\nvalue = [0, 49, 53, 6, 7, 2, 3, 11, 35, 4]'),\n",
              " Text(0.425531914893617, 0.4375, 'x[54] <= 1.5\\ngini = 0.717\\nsamples = 117\\nvalue = [0, 8, 51, 5, 5, 1, 0, 11, 32, 4]'),\n",
              " Text(0.3829787234042553, 0.3125, 'x[50] <= 7.5\\ngini = 0.75\\nsamples = 57\\nvalue = [0, 8, 2, 4, 5, 1, 0, 11, 24, 2]'),\n",
              " Text(0.3617021276595745, 0.1875, 'gini = 0.768\\nsamples = 27\\nvalue = [0, 8, 1, 3, 3, 1, 0, 9, 0, 2]'),\n",
              " Text(0.40425531914893614, 0.1875, 'x[43] <= 15.5\\ngini = 0.349\\nsamples = 30\\nvalue = [0, 0, 1, 1, 2, 0, 0, 2, 24, 0]'),\n",
              " Text(0.3829787234042553, 0.0625, 'gini = 0.156\\nsamples = 24\\nvalue = [0, 0, 0, 1, 0, 0, 0, 1, 22, 0]'),\n",
              " Text(0.425531914893617, 0.0625, 'gini = 0.722\\nsamples = 6\\nvalue = [0, 0, 1, 0, 2, 0, 0, 1, 2, 0]'),\n",
              " Text(0.46808510638297873, 0.3125, 'x[45] <= 8.5\\ngini = 0.314\\nsamples = 60\\nvalue = [0, 0, 49, 1, 0, 0, 0, 0, 8, 2]'),\n",
              " Text(0.44680851063829785, 0.1875, 'gini = 0.0\\nsamples = 47\\nvalue = [0, 0, 47, 0, 0, 0, 0, 0, 0, 0]'),\n",
              " Text(0.48936170212765956, 0.1875, 'gini = 0.568\\nsamples = 13\\nvalue = [0, 0, 2, 1, 0, 0, 0, 0, 8, 2]'),\n",
              " Text(0.574468085106383, 0.4375, 'x[46] <= 1.0\\ngini = 0.392\\nsamples = 53\\nvalue = [0, 41, 2, 1, 2, 1, 3, 0, 3, 0]'),\n",
              " Text(0.5531914893617021, 0.3125, 'x[26] <= 3.5\\ngini = 0.2\\nsamples = 46\\nvalue = [0, 41, 1, 0, 0, 1, 0, 0, 3, 0]'),\n",
              " Text(0.5319148936170213, 0.1875, 'gini = 0.72\\nsamples = 5\\nvalue = [0, 1, 1, 0, 0, 1, 0, 0, 2, 0]'),\n",
              " Text(0.574468085106383, 0.1875, 'x[35] <= 10.5\\ngini = 0.048\\nsamples = 41\\nvalue = [0, 40, 0, 0, 0, 0, 0, 0, 1, 0]'),\n",
              " Text(0.5531914893617021, 0.0625, 'gini = 0.32\\nsamples = 5\\nvalue = [0, 4, 0, 0, 0, 0, 0, 0, 1, 0]'),\n",
              " Text(0.5957446808510638, 0.0625, 'gini = 0.0\\nsamples = 36\\nvalue = [0, 36, 0, 0, 0, 0, 0, 0, 0, 0]'),\n",
              " Text(0.5957446808510638, 0.3125, 'gini = 0.694\\nsamples = 7\\nvalue = [0, 0, 1, 1, 2, 0, 3, 0, 0, 0]'),\n",
              " Text(0.7978723404255319, 0.8125, 'x[33] <= 2.5\\ngini = 0.812\\nsamples = 245\\nvalue = [57, 8, 2, 6, 43, 7, 1, 49, 13, 59]'),\n",
              " Text(0.7021276595744681, 0.6875, 'x[43] <= 2.5\\ngini = 0.694\\nsamples = 130\\nvalue = [1, 5, 2, 6, 1, 4, 1, 38, 13, 59]'),\n",
              " Text(0.6382978723404256, 0.5625, 'x[21] <= 10.5\\ngini = 0.402\\nsamples = 72\\nvalue = [0, 4, 0, 6, 0, 4, 0, 2, 1, 55]'),\n",
              " Text(0.6170212765957447, 0.4375, 'gini = 0.694\\nsamples = 11\\nvalue = [0, 0, 0, 4, 0, 4, 0, 2, 0, 1]'),\n",
              " Text(0.6595744680851063, 0.4375, 'x[3] <= 1.5\\ngini = 0.211\\nsamples = 61\\nvalue = [0, 4, 0, 2, 0, 0, 0, 0, 1, 54]'),\n",
              " Text(0.6382978723404256, 0.3125, 'gini = 0.444\\nsamples = 6\\nvalue = [0, 4, 0, 0, 0, 0, 0, 0, 0, 2]'),\n",
              " Text(0.6808510638297872, 0.3125, 'x[18] <= 6.0\\ngini = 0.104\\nsamples = 55\\nvalue = [0, 0, 0, 2, 0, 0, 0, 0, 1, 52]'),\n",
              " Text(0.6595744680851063, 0.1875, 'gini = 0.64\\nsamples = 5\\nvalue = [0, 0, 0, 2, 0, 0, 0, 0, 1, 2]'),\n",
              " Text(0.7021276595744681, 0.1875, 'gini = 0.0\\nsamples = 50\\nvalue = [0, 0, 0, 0, 0, 0, 0, 0, 0, 50]'),\n",
              " Text(0.7659574468085106, 0.5625, 'x[61] <= 0.5\\ngini = 0.565\\nsamples = 58\\nvalue = [1, 1, 2, 0, 1, 0, 1, 36, 12, 4]'),\n",
              " Text(0.7446808510638298, 0.4375, 'x[26] <= 9.5\\ngini = 0.1\\nsamples = 38\\nvalue = [0, 0, 0, 0, 0, 0, 0, 36, 0, 2]'),\n",
              " Text(0.723404255319149, 0.3125, 'gini = 0.0\\nsamples = 33\\nvalue = [0, 0, 0, 0, 0, 0, 0, 33, 0, 0]'),\n",
              " Text(0.7659574468085106, 0.3125, 'gini = 0.48\\nsamples = 5\\nvalue = [0, 0, 0, 0, 0, 0, 0, 3, 0, 2]'),\n",
              " Text(0.7872340425531915, 0.4375, 'gini = 0.61\\nsamples = 20\\nvalue = [1, 1, 2, 0, 1, 0, 1, 0, 12, 2]'),\n",
              " Text(0.8936170212765957, 0.6875, 'x[36] <= 0.5\\ngini = 0.619\\nsamples = 115\\nvalue = [56, 3, 0, 0, 42, 3, 0, 11, 0, 0]'),\n",
              " Text(0.851063829787234, 0.5625, 'x[21] <= 7.0\\ngini = 0.098\\nsamples = 59\\nvalue = [56, 0, 0, 0, 2, 1, 0, 0, 0, 0]'),\n",
              " Text(0.8297872340425532, 0.4375, 'gini = 0.64\\nsamples = 5\\nvalue = [2, 0, 0, 0, 2, 1, 0, 0, 0, 0]'),\n",
              " Text(0.8723404255319149, 0.4375, 'gini = 0.0\\nsamples = 54\\nvalue = [54, 0, 0, 0, 0, 0, 0, 0, 0, 0]'),\n",
              " Text(0.9361702127659575, 0.5625, 'x[26] <= 7.5\\ngini = 0.447\\nsamples = 56\\nvalue = [0, 3, 0, 0, 40, 2, 0, 11, 0, 0]'),\n",
              " Text(0.9148936170212766, 0.4375, 'gini = 0.0\\nsamples = 10\\nvalue = [0, 0, 0, 0, 0, 0, 0, 10, 0, 0]'),\n",
              " Text(0.9574468085106383, 0.4375, 'x[5] <= 12.0\\ngini = 0.237\\nsamples = 46\\nvalue = [0, 3, 0, 0, 40, 2, 0, 1, 0, 0]'),\n",
              " Text(0.9361702127659575, 0.3125, 'x[10] <= 9.5\\ngini = 0.048\\nsamples = 41\\nvalue = [0, 0, 0, 0, 40, 1, 0, 0, 0, 0]'),\n",
              " Text(0.9148936170212766, 0.1875, 'gini = 0.0\\nsamples = 36\\nvalue = [0, 0, 0, 0, 36, 0, 0, 0, 0, 0]'),\n",
              " Text(0.9574468085106383, 0.1875, 'gini = 0.32\\nsamples = 5\\nvalue = [0, 0, 0, 0, 4, 1, 0, 0, 0, 0]'),\n",
              " Text(0.9787234042553191, 0.3125, 'gini = 0.56\\nsamples = 5\\nvalue = [0, 3, 0, 0, 0, 1, 0, 1, 0, 0]')]"
            ]
          },
          "metadata": {},
          "execution_count": 45
        },
        {
          "output_type": "display_data",
          "data": {
            "text/plain": [
              "<Figure size 640x480 with 1 Axes>"
            ],
            "image/png": "[encoded data removed]"
          },
          "metadata": {}
        }
      ]
    },
    {
      "cell_type": "markdown",
      "metadata": {
        "id": "H10MViKjW61M"
      },
      "source": [
        "## ใช้ Entropy มี ความสูงไม่เกิน 4 ชั้น (Oil)"
      ]
    },
    {
      "cell_type": "code",
      "metadata": {
        "id": "Bk7tO7z0sMzI",
        "outputId": "429283f8-ddda-42b9-9ff4-6f3d34f14af7",
        "colab": {
          "base_uri": "https://localhost:8080/",
          "height": 74
        }
      },
      "source": [
        "mytree1 = DecisionTreeClassifier(criterion='entropy',max_depth=4)\n",
        "mytree1.fit(X_traintrain,y_traintrain)"
      ],
      "execution_count": 46,
      "outputs": [
        {
          "output_type": "execute_result",
          "data": {
            "text/plain": [
              "DecisionTreeClassifier(criterion='entropy', max_depth=4)"
            ],
            "text/html": [
              "<style>#sk-container-id-4 {color: black;background-color: white;}#sk-container-id-4 pre{padding: 0;}#sk-container-id-4 div.sk-toggleable {background-color: white;}#sk-container-id-4 label.sk-toggleable__label {cursor: pointer;display: block;width: 100%;margin-bottom: 0;padding: 0.3em;box-sizing: border-box;text-align: center;}#sk-container-id-4 label.sk-toggleable__label-arrow:before {content: \"▸\";float: left;margin-right: 0.25em;color: #696969;}#sk-container-id-4 label.sk-toggleable__label-arrow:hover:before {color: black;}#sk-container-id-4 div.sk-estimator:hover label.sk-toggleable__label-arrow:before {color: black;}#sk-container-id-4 div.sk-toggleable__content {max-height: 0;max-width: 0;overflow: hidden;text-align: left;background-color: #f0f8ff;}#sk-container-id-4 div.sk-toggleable__content pre {margin: 0.2em;color: black;border-radius: 0.25em;background-color: #f0f8ff;}#sk-container-id-4 input.sk-toggleable__control:checked~div.sk-toggleable__content {max-height: 200px;max-width: 100%;overflow: auto;}#sk-container-id-4 input.sk-toggleable__control:checked~label.sk-toggleable__label-arrow:before {content: \"▾\";}#sk-container-id-4 div.sk-estimator input.sk-toggleable__control:checked~label.sk-toggleable__label {background-color: #d4ebff;}#sk-container-id-4 div.sk-label input.sk-toggleable__control:checked~label.sk-toggleable__label {background-color: #d4ebff;}#sk-container-id-4 input.sk-hidden--visually {border: 0;clip: rect(1px 1px 1px 1px);clip: rect(1px, 1px, 1px, 1px);height: 1px;margin: -1px;overflow: hidden;padding: 0;position: absolute;width: 1px;}#sk-container-id-4 div.sk-estimator {font-family: monospace;background-color: #f0f8ff;border: 1px dotted black;border-radius: 0.25em;box-sizing: border-box;margin-bottom: 0.5em;}#sk-container-id-4 div.sk-estimator:hover {background-color: #d4ebff;}#sk-container-id-4 div.sk-parallel-item::after {content: \"\";width: 100%;border-bottom: 1px solid gray;flex-grow: 1;}#sk-container-id-4 div.sk-label:hover label.sk-toggleable__label {background-color: #d4ebff;}#sk-container-id-4 div.sk-serial::before {content: \"\";position: absolute;border-left: 1px solid gray;box-sizing: border-box;top: 0;bottom: 0;left: 50%;z-index: 0;}#sk-container-id-4 div.sk-serial {display: flex;flex-direction: column;align-items: center;background-color: white;padding-right: 0.2em;padding-left: 0.2em;position: relative;}#sk-container-id-4 div.sk-item {position: relative;z-index: 1;}#sk-container-id-4 div.sk-parallel {display: flex;align-items: stretch;justify-content: center;background-color: white;position: relative;}#sk-container-id-4 div.sk-item::before, #sk-container-id-4 div.sk-parallel-item::before {content: \"\";position: absolute;border-left: 1px solid gray;box-sizing: border-box;top: 0;bottom: 0;left: 50%;z-index: -1;}#sk-container-id-4 div.sk-parallel-item {display: flex;flex-direction: column;z-index: 1;position: relative;background-color: white;}#sk-container-id-4 div.sk-parallel-item:first-child::after {align-self: flex-end;width: 50%;}#sk-container-id-4 div.sk-parallel-item:last-child::after {align-self: flex-start;width: 50%;}#sk-container-id-4 div.sk-parallel-item:only-child::after {width: 0;}#sk-container-id-4 div.sk-dashed-wrapped {border: 1px dashed gray;margin: 0 0.4em 0.5em 0.4em;box-sizing: border-box;padding-bottom: 0.4em;background-color: white;}#sk-container-id-4 div.sk-label label {font-family: monospace;font-weight: bold;display: inline-block;line-height: 1.2em;}#sk-container-id-4 div.sk-label-container {text-align: center;}#sk-container-id-4 div.sk-container {/* jupyter's `normalize.less` sets `[hidden] { display: none; }` but bootstrap.min.css set `[hidden] { display: none !important; }` so we also need the `!important` here to be able to override the default hidden behavior on the sphinx rendered scikit-learn.org. See: https://github.com/scikit-learn/scikit-learn/issues/21755 */display: inline-block !important;position: relative;}#sk-container-id-4 div.sk-text-repr-fallback {display: none;}</style><div id=\"sk-container-id-4\" class=\"sk-top-container\"><div class=\"sk-text-repr-fallback\"><pre>DecisionTreeClassifier(criterion=&#x27;entropy&#x27;, max_depth=4)</pre><b>In a Jupyter environment, please rerun this cell to show the HTML representation or trust the notebook. <br />On GitHub, the HTML representation is unable to render, please try loading this page with nbviewer.org.</b></div><div class=\"sk-container\" hidden><div class=\"sk-item\"><div class=\"sk-estimator sk-toggleable\"><input class=\"sk-toggleable__control sk-hidden--visually\" id=\"sk-estimator-id-4\" type=\"checkbox\" checked><label for=\"sk-estimator-id-4\" class=\"sk-toggleable__label sk-toggleable__label-arrow\">DecisionTreeClassifier</label><div class=\"sk-toggleable__content\"><pre>DecisionTreeClassifier(criterion=&#x27;entropy&#x27;, max_depth=4)</pre></div></div></div></div></div>"
            ]
          },
          "metadata": {},
          "execution_count": 46
        }
      ]
    },
    {
      "cell_type": "markdown",
      "metadata": {
        "id": "flDDZwxyXD39"
      },
      "source": [
        "## ใช้ Gini และ leaf node ต้องมีจำนวน data ไม่น้อยกว่า 5 (Nicha)"
      ]
    },
    {
      "cell_type": "code",
      "metadata": {
        "id": "6CuuEqz0XCzv",
        "outputId": "27c6fa8e-160b-4fe1-9f03-ebe814fec895",
        "colab": {
          "base_uri": "https://localhost:8080/",
          "height": 74
        }
      },
      "source": [
        "mytree2 = DecisionTreeClassifier(criterion='gini',min_samples_leaf=5)\n",
        "mytree2.fit(X_traintrain,y_traintrain)"
      ],
      "execution_count": 47,
      "outputs": [
        {
          "output_type": "execute_result",
          "data": {
            "text/plain": [
              "DecisionTreeClassifier(min_samples_leaf=5)"
            ],
            "text/html": [
              "<style>#sk-container-id-5 {color: black;background-color: white;}#sk-container-id-5 pre{padding: 0;}#sk-container-id-5 div.sk-toggleable {background-color: white;}#sk-container-id-5 label.sk-toggleable__label {cursor: pointer;display: block;width: 100%;margin-bottom: 0;padding: 0.3em;box-sizing: border-box;text-align: center;}#sk-container-id-5 label.sk-toggleable__label-arrow:before {content: \"▸\";float: left;margin-right: 0.25em;color: #696969;}#sk-container-id-5 label.sk-toggleable__label-arrow:hover:before {color: black;}#sk-container-id-5 div.sk-estimator:hover label.sk-toggleable__label-arrow:before {color: black;}#sk-container-id-5 div.sk-toggleable__content {max-height: 0;max-width: 0;overflow: hidden;text-align: left;background-color: #f0f8ff;}#sk-container-id-5 div.sk-toggleable__content pre {margin: 0.2em;color: black;border-radius: 0.25em;background-color: #f0f8ff;}#sk-container-id-5 input.sk-toggleable__control:checked~div.sk-toggleable__content {max-height: 200px;max-width: 100%;overflow: auto;}#sk-container-id-5 input.sk-toggleable__control:checked~label.sk-toggleable__label-arrow:before {content: \"▾\";}#sk-container-id-5 div.sk-estimator input.sk-toggleable__control:checked~label.sk-toggleable__label {background-color: #d4ebff;}#sk-container-id-5 div.sk-label input.sk-toggleable__control:checked~label.sk-toggleable__label {background-color: #d4ebff;}#sk-container-id-5 input.sk-hidden--visually {border: 0;clip: rect(1px 1px 1px 1px);clip: rect(1px, 1px, 1px, 1px);height: 1px;margin: -1px;overflow: hidden;padding: 0;position: absolute;width: 1px;}#sk-container-id-5 div.sk-estimator {font-family: monospace;background-color: #f0f8ff;border: 1px dotted black;border-radius: 0.25em;box-sizing: border-box;margin-bottom: 0.5em;}#sk-container-id-5 div.sk-estimator:hover {background-color: #d4ebff;}#sk-container-id-5 div.sk-parallel-item::after {content: \"\";width: 100%;border-bottom: 1px solid gray;flex-grow: 1;}#sk-container-id-5 div.sk-label:hover label.sk-toggleable__label {background-color: #d4ebff;}#sk-container-id-5 div.sk-serial::before {content: \"\";position: absolute;border-left: 1px solid gray;box-sizing: border-box;top: 0;bottom: 0;left: 50%;z-index: 0;}#sk-container-id-5 div.sk-serial {display: flex;flex-direction: column;align-items: center;background-color: white;padding-right: 0.2em;padding-left: 0.2em;position: relative;}#sk-container-id-5 div.sk-item {position: relative;z-index: 1;}#sk-container-id-5 div.sk-parallel {display: flex;align-items: stretch;justify-content: center;background-color: white;position: relative;}#sk-container-id-5 div.sk-item::before, #sk-container-id-5 div.sk-parallel-item::before {content: \"\";position: absolute;border-left: 1px solid gray;box-sizing: border-box;top: 0;bottom: 0;left: 50%;z-index: -1;}#sk-container-id-5 div.sk-parallel-item {display: flex;flex-direction: column;z-index: 1;position: relative;background-color: white;}#sk-container-id-5 div.sk-parallel-item:first-child::after {align-self: flex-end;width: 50%;}#sk-container-id-5 div.sk-parallel-item:last-child::after {align-self: flex-start;width: 50%;}#sk-container-id-5 div.sk-parallel-item:only-child::after {width: 0;}#sk-container-id-5 div.sk-dashed-wrapped {border: 1px dashed gray;margin: 0 0.4em 0.5em 0.4em;box-sizing: border-box;padding-bottom: 0.4em;background-color: white;}#sk-container-id-5 div.sk-label label {font-family: monospace;font-weight: bold;display: inline-block;line-height: 1.2em;}#sk-container-id-5 div.sk-label-container {text-align: center;}#sk-container-id-5 div.sk-container {/* jupyter's `normalize.less` sets `[hidden] { display: none; }` but bootstrap.min.css set `[hidden] { display: none !important; }` so we also need the `!important` here to be able to override the default hidden behavior on the sphinx rendered scikit-learn.org. See: https://github.com/scikit-learn/scikit-learn/issues/21755 */display: inline-block !important;position: relative;}#sk-container-id-5 div.sk-text-repr-fallback {display: none;}</style><div id=\"sk-container-id-5\" class=\"sk-top-container\"><div class=\"sk-text-repr-fallback\"><pre>DecisionTreeClassifier(min_samples_leaf=5)</pre><b>In a Jupyter environment, please rerun this cell to show the HTML representation or trust the notebook. <br />On GitHub, the HTML representation is unable to render, please try loading this page with nbviewer.org.</b></div><div class=\"sk-container\" hidden><div class=\"sk-item\"><div class=\"sk-estimator sk-toggleable\"><input class=\"sk-toggleable__control sk-hidden--visually\" id=\"sk-estimator-id-5\" type=\"checkbox\" checked><label for=\"sk-estimator-id-5\" class=\"sk-toggleable__label sk-toggleable__label-arrow\">DecisionTreeClassifier</label><div class=\"sk-toggleable__content\"><pre>DecisionTreeClassifier(min_samples_leaf=5)</pre></div></div></div></div></div>"
            ]
          },
          "metadata": {},
          "execution_count": 47
        }
      ]
    },
    {
      "cell_type": "markdown",
      "metadata": {
        "id": "nqtljoalXWKy"
      },
      "source": [
        "## ใช้ Entropy และ มี จำนวน leaf node ไม่เกิน 15 (Kie)"
      ]
    },
    {
      "cell_type": "code",
      "metadata": {
        "id": "PRvuZNblXTBR",
        "outputId": "e9976fb0-ab9b-4c2e-d88a-1ac228b5d248",
        "colab": {
          "base_uri": "https://localhost:8080/",
          "height": 74
        }
      },
      "source": [
        "mytree3 = DecisionTreeClassifier(criterion='entropy',max_leaf_nodes=15)\n",
        "mytree3.fit(X_traintrain,y_traintrain)"
      ],
      "execution_count": 48,
      "outputs": [
        {
          "output_type": "execute_result",
          "data": {
            "text/plain": [
              "DecisionTreeClassifier(criterion='entropy', max_leaf_nodes=15)"
            ],
            "text/html": [
              "<style>#sk-container-id-6 {color: black;background-color: white;}#sk-container-id-6 pre{padding: 0;}#sk-container-id-6 div.sk-toggleable {background-color: white;}#sk-container-id-6 label.sk-toggleable__label {cursor: pointer;display: block;width: 100%;margin-bottom: 0;padding: 0.3em;box-sizing: border-box;text-align: center;}#sk-container-id-6 label.sk-toggleable__label-arrow:before {content: \"▸\";float: left;margin-right: 0.25em;color: #696969;}#sk-container-id-6 label.sk-toggleable__label-arrow:hover:before {color: black;}#sk-container-id-6 div.sk-estimator:hover label.sk-toggleable__label-arrow:before {color: black;}#sk-container-id-6 div.sk-toggleable__content {max-height: 0;max-width: 0;overflow: hidden;text-align: left;background-color: #f0f8ff;}#sk-container-id-6 div.sk-toggleable__content pre {margin: 0.2em;color: black;border-radius: 0.25em;background-color: #f0f8ff;}#sk-container-id-6 input.sk-toggleable__control:checked~div.sk-toggleable__content {max-height: 200px;max-width: 100%;overflow: auto;}#sk-container-id-6 input.sk-toggleable__control:checked~label.sk-toggleable__label-arrow:before {content: \"▾\";}#sk-container-id-6 div.sk-estimator input.sk-toggleable__control:checked~label.sk-toggleable__label {background-color: #d4ebff;}#sk-container-id-6 div.sk-label input.sk-toggleable__control:checked~label.sk-toggleable__label {background-color: #d4ebff;}#sk-container-id-6 input.sk-hidden--visually {border: 0;clip: rect(1px 1px 1px 1px);clip: rect(1px, 1px, 1px, 1px);height: 1px;margin: -1px;overflow: hidden;padding: 0;position: absolute;width: 1px;}#sk-container-id-6 div.sk-estimator {font-family: monospace;background-color: #f0f8ff;border: 1px dotted black;border-radius: 0.25em;box-sizing: border-box;margin-bottom: 0.5em;}#sk-container-id-6 div.sk-estimator:hover {background-color: #d4ebff;}#sk-container-id-6 div.sk-parallel-item::after {content: \"\";width: 100%;border-bottom: 1px solid gray;flex-grow: 1;}#sk-container-id-6 div.sk-label:hover label.sk-toggleable__label {background-color: #d4ebff;}#sk-container-id-6 div.sk-serial::before {content: \"\";position: absolute;border-left: 1px solid gray;box-sizing: border-box;top: 0;bottom: 0;left: 50%;z-index: 0;}#sk-container-id-6 div.sk-serial {display: flex;flex-direction: column;align-items: center;background-color: white;padding-right: 0.2em;padding-left: 0.2em;position: relative;}#sk-container-id-6 div.sk-item {position: relative;z-index: 1;}#sk-container-id-6 div.sk-parallel {display: flex;align-items: stretch;justify-content: center;background-color: white;position: relative;}#sk-container-id-6 div.sk-item::before, #sk-container-id-6 div.sk-parallel-item::before {content: \"\";position: absolute;border-left: 1px solid gray;box-sizing: border-box;top: 0;bottom: 0;left: 50%;z-index: -1;}#sk-container-id-6 div.sk-parallel-item {display: flex;flex-direction: column;z-index: 1;position: relative;background-color: white;}#sk-container-id-6 div.sk-parallel-item:first-child::after {align-self: flex-end;width: 50%;}#sk-container-id-6 div.sk-parallel-item:last-child::after {align-self: flex-start;width: 50%;}#sk-container-id-6 div.sk-parallel-item:only-child::after {width: 0;}#sk-container-id-6 div.sk-dashed-wrapped {border: 1px dashed gray;margin: 0 0.4em 0.5em 0.4em;box-sizing: border-box;padding-bottom: 0.4em;background-color: white;}#sk-container-id-6 div.sk-label label {font-family: monospace;font-weight: bold;display: inline-block;line-height: 1.2em;}#sk-container-id-6 div.sk-label-container {text-align: center;}#sk-container-id-6 div.sk-container {/* jupyter's `normalize.less` sets `[hidden] { display: none; }` but bootstrap.min.css set `[hidden] { display: none !important; }` so we also need the `!important` here to be able to override the default hidden behavior on the sphinx rendered scikit-learn.org. See: https://github.com/scikit-learn/scikit-learn/issues/21755 */display: inline-block !important;position: relative;}#sk-container-id-6 div.sk-text-repr-fallback {display: none;}</style><div id=\"sk-container-id-6\" class=\"sk-top-container\"><div class=\"sk-text-repr-fallback\"><pre>DecisionTreeClassifier(criterion=&#x27;entropy&#x27;, max_leaf_nodes=15)</pre><b>In a Jupyter environment, please rerun this cell to show the HTML representation or trust the notebook. <br />On GitHub, the HTML representation is unable to render, please try loading this page with nbviewer.org.</b></div><div class=\"sk-container\" hidden><div class=\"sk-item\"><div class=\"sk-estimator sk-toggleable\"><input class=\"sk-toggleable__control sk-hidden--visually\" id=\"sk-estimator-id-6\" type=\"checkbox\" checked><label for=\"sk-estimator-id-6\" class=\"sk-toggleable__label sk-toggleable__label-arrow\">DecisionTreeClassifier</label><div class=\"sk-toggleable__content\"><pre>DecisionTreeClassifier(criterion=&#x27;entropy&#x27;, max_leaf_nodes=15)</pre></div></div></div></div></div>"
            ]
          },
          "metadata": {},
          "execution_count": 48
        }
      ]
    },
    {
      "cell_type": "markdown",
      "metadata": {
        "id": "pxbXxma4Y2jT"
      },
      "source": [
        "## ทดสอบ หา model ที่ดีที่สุดด้วย validation set"
      ]
    },
    {
      "cell_type": "code",
      "metadata": {
        "id": "9enIOx-VXgDr"
      },
      "source": [
        "t0_result = mytree0.predict(X_val)"
      ],
      "execution_count": 49,
      "outputs": []
    },
    {
      "cell_type": "code",
      "metadata": {
        "id": "yw342ERmZPU7",
        "outputId": "3130bfc4-1a8d-470b-93d9-24c2d57ed642",
        "colab": {
          "base_uri": "https://localhost:8080/"
        }
      },
      "source": [
        "t0_result"
      ],
      "execution_count": 50,
      "outputs": [
        {
          "output_type": "execute_result",
          "data": {
            "text/plain": [
              "array([7, 7, 3, 0, 8, 4, 1, 7, 0, 9, 3, 2, 6, 4, 8, 4, 3, 3, 8, 6, 2, 9,\n",
              "       5, 4, 3, 6, 3, 4, 1, 8, 4, 1, 8, 5, 3, 3, 4, 1, 2, 0, 8, 0, 6, 5,\n",
              "       3, 4, 6, 0, 6, 8, 2, 8, 6, 0, 9, 7, 0, 8, 5, 8, 0, 4, 5, 6, 5, 2,\n",
              "       7, 9, 3, 1, 4, 9, 7, 5, 6, 4, 5, 0, 5, 8, 3, 4, 7, 5, 8, 4, 8, 9,\n",
              "       1, 7, 1, 6, 7, 0, 8, 3, 8, 7, 1, 6, 7, 8, 1, 8, 8, 5, 4, 9, 6, 1,\n",
              "       2, 5, 6, 3, 0, 3, 7, 1, 9, 8, 7, 7, 9, 5, 5, 6, 0, 8, 6, 4, 2, 9,\n",
              "       8, 8, 6, 1, 1, 2, 3, 8, 9, 9, 5, 1, 5, 9, 5, 9, 8, 6, 3, 8, 6, 8,\n",
              "       2, 2, 4, 4, 0, 1, 2, 6, 7, 4, 8, 9, 3, 4, 2, 7, 5, 0, 3, 0, 1, 6,\n",
              "       4, 8, 1, 8, 4, 3, 9, 5, 5, 8, 5, 6, 1, 5, 8, 5, 7, 1, 8, 4, 3, 7,\n",
              "       9, 6, 7, 7, 4, 7, 5, 7, 7, 8, 2, 5, 5, 8, 5, 4, 8, 7, 8, 8, 9, 4,\n",
              "       5, 8, 2, 8, 5, 0, 9, 3, 4, 6, 3, 3, 1, 4, 2, 5, 4, 5, 0, 0, 3, 7,\n",
              "       8, 5, 0, 8, 7, 5, 6, 3, 6, 4, 3, 9, 8, 6, 4, 3, 1, 6, 4, 8, 8, 5,\n",
              "       1, 1, 2, 7, 7, 9])"
            ]
          },
          "metadata": {},
          "execution_count": 50
        }
      ]
    },
    {
      "cell_type": "code",
      "metadata": {
        "id": "5xWVDMC3ZQn-",
        "outputId": "da58a172-9c46-404d-f3ec-6dd3594e641f",
        "colab": {
          "base_uri": "https://localhost:8080/"
        }
      },
      "source": [
        "y_val"
      ],
      "execution_count": 51,
      "outputs": [
        {
          "output_type": "execute_result",
          "data": {
            "text/plain": [
              "array([4, 7, 3, 0, 6, 4, 7, 7, 0, 9, 3, 2, 6, 8, 8, 4, 3, 2, 7, 6, 2, 9,\n",
              "       5, 6, 5, 6, 9, 4, 7, 2, 4, 1, 7, 5, 3, 3, 4, 1, 2, 0, 8, 0, 6, 5,\n",
              "       3, 4, 6, 0, 6, 8, 2, 1, 6, 0, 9, 7, 0, 6, 3, 8, 0, 4, 5, 6, 9, 2,\n",
              "       3, 9, 3, 1, 4, 9, 7, 5, 6, 7, 5, 0, 5, 8, 3, 6, 3, 9, 8, 4, 9, 9,\n",
              "       8, 7, 1, 6, 3, 0, 8, 9, 8, 1, 1, 8, 7, 8, 4, 8, 8, 3, 4, 9, 6, 1,\n",
              "       2, 5, 6, 3, 0, 7, 7, 1, 9, 7, 4, 4, 9, 5, 5, 6, 0, 8, 6, 6, 2, 9,\n",
              "       8, 9, 6, 9, 1, 2, 3, 8, 9, 0, 5, 1, 9, 9, 5, 9, 3, 6, 5, 0, 6, 8,\n",
              "       2, 2, 4, 2, 0, 1, 2, 6, 1, 4, 3, 9, 3, 4, 2, 7, 8, 0, 9, 0, 6, 6,\n",
              "       4, 3, 5, 8, 4, 3, 9, 6, 5, 4, 5, 6, 3, 5, 4, 5, 7, 1, 2, 4, 5, 7,\n",
              "       9, 6, 7, 2, 1, 4, 6, 7, 4, 8, 2, 5, 5, 7, 5, 4, 8, 7, 3, 3, 9, 4,\n",
              "       5, 8, 2, 8, 5, 0, 9, 3, 4, 6, 3, 3, 1, 4, 2, 5, 4, 9, 0, 0, 3, 7,\n",
              "       8, 5, 0, 9, 7, 5, 6, 3, 6, 4, 9, 9, 8, 6, 1, 3, 7, 6, 4, 0, 8, 5,\n",
              "       9, 3, 2, 1, 1, 9])"
            ]
          },
          "metadata": {},
          "execution_count": 51
        }
      ]
    },
    {
      "cell_type": "code",
      "metadata": {
        "id": "_Bg5ZplWZWLo"
      },
      "source": [
        "from sklearn.metrics import accuracy_score"
      ],
      "execution_count": 52,
      "outputs": []
    },
    {
      "cell_type": "code",
      "metadata": {
        "id": "f06dSy0aZgrM",
        "outputId": "1423371b-1634-40cd-dd86-3382a2449569",
        "colab": {
          "base_uri": "https://localhost:8080/"
        }
      },
      "source": [
        "accuracy_score(y_val,t0_result)"
      ],
      "execution_count": 53,
      "outputs": [
        {
          "output_type": "execute_result",
          "data": {
            "text/plain": [
              "0.7296296296296296"
            ]
          },
          "metadata": {},
          "execution_count": 53
        }
      ]
    },
    {
      "cell_type": "code",
      "metadata": {
        "id": "Hacg3EI_ZlvE",
        "outputId": "9c11d7a0-4cbc-4066-9a3e-cff8a7ab9c10",
        "colab": {
          "base_uri": "https://localhost:8080/"
        }
      },
      "source": [
        "t1_result = mytree1.predict(X_val)\n",
        "accuracy_score(y_val,t1_result)"
      ],
      "execution_count": 54,
      "outputs": [
        {
          "output_type": "execute_result",
          "data": {
            "text/plain": [
              "0.6851851851851852"
            ]
          },
          "metadata": {},
          "execution_count": 54
        }
      ]
    },
    {
      "cell_type": "code",
      "metadata": {
        "id": "vbY7FsnyZznS",
        "outputId": "db670910-6062-45ac-8a87-93decbbf7511",
        "colab": {
          "base_uri": "https://localhost:8080/"
        }
      },
      "source": [
        "t2_result = mytree2.predict(X_val)\n",
        "accuracy_score(y_val,t2_result)"
      ],
      "execution_count": 55,
      "outputs": [
        {
          "output_type": "execute_result",
          "data": {
            "text/plain": [
              "0.7666666666666667"
            ]
          },
          "metadata": {},
          "execution_count": 55
        }
      ]
    },
    {
      "cell_type": "code",
      "metadata": {
        "id": "RJbBsvYcZ3mz",
        "outputId": "786a109e-6e4d-4be2-9a53-47a7f3915732",
        "colab": {
          "base_uri": "https://localhost:8080/"
        }
      },
      "source": [
        "t3_result = mytree3.predict(X_val)\n",
        "accuracy_score(y_val,t3_result)"
      ],
      "execution_count": 56,
      "outputs": [
        {
          "output_type": "execute_result",
          "data": {
            "text/plain": [
              "0.6962962962962963"
            ]
          },
          "metadata": {},
          "execution_count": 56
        }
      ]
    },
    {
      "cell_type": "markdown",
      "metadata": {
        "id": "ULDJAcybaL0n"
      },
      "source": [
        "## สร้าง model จริง จาก training data"
      ]
    },
    {
      "cell_type": "code",
      "metadata": {
        "id": "H3EWwaBYZ7Bi",
        "outputId": "cd3d4c07-92b3-4133-f104-4ce952d7c4e4",
        "colab": {
          "base_uri": "https://localhost:8080/",
          "height": 74
        }
      },
      "source": [
        "mytree2Full = DecisionTreeClassifier(criterion='gini',min_samples_leaf=5)\n",
        "mytree2Full.fit(X_train,y_train)"
      ],
      "execution_count": 57,
      "outputs": [
        {
          "output_type": "execute_result",
          "data": {
            "text/plain": [
              "DecisionTreeClassifier(min_samples_leaf=5)"
            ],
            "text/html": [
              "<style>#sk-container-id-7 {color: black;background-color: white;}#sk-container-id-7 pre{padding: 0;}#sk-container-id-7 div.sk-toggleable {background-color: white;}#sk-container-id-7 label.sk-toggleable__label {cursor: pointer;display: block;width: 100%;margin-bottom: 0;padding: 0.3em;box-sizing: border-box;text-align: center;}#sk-container-id-7 label.sk-toggleable__label-arrow:before {content: \"▸\";float: left;margin-right: 0.25em;color: #696969;}#sk-container-id-7 label.sk-toggleable__label-arrow:hover:before {color: black;}#sk-container-id-7 div.sk-estimator:hover label.sk-toggleable__label-arrow:before {color: black;}#sk-container-id-7 div.sk-toggleable__content {max-height: 0;max-width: 0;overflow: hidden;text-align: left;background-color: #f0f8ff;}#sk-container-id-7 div.sk-toggleable__content pre {margin: 0.2em;color: black;border-radius: 0.25em;background-color: #f0f8ff;}#sk-container-id-7 input.sk-toggleable__control:checked~div.sk-toggleable__content {max-height: 200px;max-width: 100%;overflow: auto;}#sk-container-id-7 input.sk-toggleable__control:checked~label.sk-toggleable__label-arrow:before {content: \"▾\";}#sk-container-id-7 div.sk-estimator input.sk-toggleable__control:checked~label.sk-toggleable__label {background-color: #d4ebff;}#sk-container-id-7 div.sk-label input.sk-toggleable__control:checked~label.sk-toggleable__label {background-color: #d4ebff;}#sk-container-id-7 input.sk-hidden--visually {border: 0;clip: rect(1px 1px 1px 1px);clip: rect(1px, 1px, 1px, 1px);height: 1px;margin: -1px;overflow: hidden;padding: 0;position: absolute;width: 1px;}#sk-container-id-7 div.sk-estimator {font-family: monospace;background-color: #f0f8ff;border: 1px dotted black;border-radius: 0.25em;box-sizing: border-box;margin-bottom: 0.5em;}#sk-container-id-7 div.sk-estimator:hover {background-color: #d4ebff;}#sk-container-id-7 div.sk-parallel-item::after {content: \"\";width: 100%;border-bottom: 1px solid gray;flex-grow: 1;}#sk-container-id-7 div.sk-label:hover label.sk-toggleable__label {background-color: #d4ebff;}#sk-container-id-7 div.sk-serial::before {content: \"\";position: absolute;border-left: 1px solid gray;box-sizing: border-box;top: 0;bottom: 0;left: 50%;z-index: 0;}#sk-container-id-7 div.sk-serial {display: flex;flex-direction: column;align-items: center;background-color: white;padding-right: 0.2em;padding-left: 0.2em;position: relative;}#sk-container-id-7 div.sk-item {position: relative;z-index: 1;}#sk-container-id-7 div.sk-parallel {display: flex;align-items: stretch;justify-content: center;background-color: white;position: relative;}#sk-container-id-7 div.sk-item::before, #sk-container-id-7 div.sk-parallel-item::before {content: \"\";position: absolute;border-left: 1px solid gray;box-sizing: border-box;top: 0;bottom: 0;left: 50%;z-index: -1;}#sk-container-id-7 div.sk-parallel-item {display: flex;flex-direction: column;z-index: 1;position: relative;background-color: white;}#sk-container-id-7 div.sk-parallel-item:first-child::after {align-self: flex-end;width: 50%;}#sk-container-id-7 div.sk-parallel-item:last-child::after {align-self: flex-start;width: 50%;}#sk-container-id-7 div.sk-parallel-item:only-child::after {width: 0;}#sk-container-id-7 div.sk-dashed-wrapped {border: 1px dashed gray;margin: 0 0.4em 0.5em 0.4em;box-sizing: border-box;padding-bottom: 0.4em;background-color: white;}#sk-container-id-7 div.sk-label label {font-family: monospace;font-weight: bold;display: inline-block;line-height: 1.2em;}#sk-container-id-7 div.sk-label-container {text-align: center;}#sk-container-id-7 div.sk-container {/* jupyter's `normalize.less` sets `[hidden] { display: none; }` but bootstrap.min.css set `[hidden] { display: none !important; }` so we also need the `!important` here to be able to override the default hidden behavior on the sphinx rendered scikit-learn.org. See: https://github.com/scikit-learn/scikit-learn/issues/21755 */display: inline-block !important;position: relative;}#sk-container-id-7 div.sk-text-repr-fallback {display: none;}</style><div id=\"sk-container-id-7\" class=\"sk-top-container\"><div class=\"sk-text-repr-fallback\"><pre>DecisionTreeClassifier(min_samples_leaf=5)</pre><b>In a Jupyter environment, please rerun this cell to show the HTML representation or trust the notebook. <br />On GitHub, the HTML representation is unable to render, please try loading this page with nbviewer.org.</b></div><div class=\"sk-container\" hidden><div class=\"sk-item\"><div class=\"sk-estimator sk-toggleable\"><input class=\"sk-toggleable__control sk-hidden--visually\" id=\"sk-estimator-id-7\" type=\"checkbox\" checked><label for=\"sk-estimator-id-7\" class=\"sk-toggleable__label sk-toggleable__label-arrow\">DecisionTreeClassifier</label><div class=\"sk-toggleable__content\"><pre>DecisionTreeClassifier(min_samples_leaf=5)</pre></div></div></div></div></div>"
            ]
          },
          "metadata": {},
          "execution_count": 57
        }
      ]
    },
    {
      "cell_type": "markdown",
      "metadata": {
        "id": "-dbAEN4saeq6"
      },
      "source": [
        "## วัดผล"
      ]
    },
    {
      "cell_type": "code",
      "metadata": {
        "id": "59cHXTovadlt"
      },
      "source": [
        "final_result = mytree2Full.predict(X_test)"
      ],
      "execution_count": 58,
      "outputs": []
    },
    {
      "cell_type": "code",
      "metadata": {
        "id": "sg7QJW86a6D_",
        "outputId": "017c1f4d-a9ca-4f0d-9a91-177844712ff4",
        "colab": {
          "base_uri": "https://localhost:8080/"
        }
      },
      "source": [
        "accuracy_score(y_test,final_result)"
      ],
      "execution_count": 59,
      "outputs": [
        {
          "output_type": "execute_result",
          "data": {
            "text/plain": [
              "0.8008898776418243"
            ]
          },
          "metadata": {},
          "execution_count": 59
        }
      ]
    },
    {
      "cell_type": "markdown",
      "metadata": {
        "id": "wR4arPtjcrse"
      },
      "source": [
        "# 3 Machine Learning Training Concepts\n",
        "\n",
        "0.   your data & all data in the world\n",
        "1.   split data -> train test validation\n",
        "2.   finding the best model\n",
        "3.   evaluate the model\n",
        "\n"
      ]
    },
    {
      "cell_type": "markdown",
      "metadata": {
        "id": "AVRmgQsvpBkV"
      },
      "source": [
        "### Naive Bayes"
      ]
    },
    {
      "cell_type": "code",
      "metadata": {
        "id": "caRQt_GrpRLT"
      },
      "source": [
        "import pandas as pd"
      ],
      "execution_count": 60,
      "outputs": []
    },
    {
      "cell_type": "code",
      "metadata": {
        "id": "T9CcyPpWbBHz",
        "outputId": "ce2cf80d-b911-4a8a-930d-3a4615808140",
        "colab": {
          "base_uri": "https://localhost:8080/",
          "height": 1000
        }
      },
      "source": [
        "pd.DataFrame(X_traintrain).hist()"
      ],
      "execution_count": 61,
      "outputs": [
        {
          "output_type": "execute_result",
          "data": {
            "text/plain": [
              "array([[<Axes: title={'center': '0'}>, <Axes: title={'center': '1'}>,\n",
              "        <Axes: title={'center': '2'}>, <Axes: title={'center': '3'}>,\n",
              "        <Axes: title={'center': '4'}>, <Axes: title={'center': '5'}>,\n",
              "        <Axes: title={'center': '6'}>, <Axes: title={'center': '7'}>],\n",
              "       [<Axes: title={'center': '8'}>, <Axes: title={'center': '9'}>,\n",
              "        <Axes: title={'center': '10'}>, <Axes: title={'center': '11'}>,\n",
              "        <Axes: title={'center': '12'}>, <Axes: title={'center': '13'}>,\n",
              "        <Axes: title={'center': '14'}>, <Axes: title={'center': '15'}>],\n",
              "       [<Axes: title={'center': '16'}>, <Axes: title={'center': '17'}>,\n",
              "        <Axes: title={'center': '18'}>, <Axes: title={'center': '19'}>,\n",
              "        <Axes: title={'center': '20'}>, <Axes: title={'center': '21'}>,\n",
              "        <Axes: title={'center': '22'}>, <Axes: title={'center': '23'}>],\n",
              "       [<Axes: title={'center': '24'}>, <Axes: title={'center': '25'}>,\n",
              "        <Axes: title={'center': '26'}>, <Axes: title={'center': '27'}>,\n",
              "        <Axes: title={'center': '28'}>, <Axes: title={'center': '29'}>,\n",
              "        <Axes: title={'center': '30'}>, <Axes: title={'center': '31'}>],\n",
              "       [<Axes: title={'center': '32'}>, <Axes: title={'center': '33'}>,\n",
              "        <Axes: title={'center': '34'}>, <Axes: title={'center': '35'}>,\n",
              "        <Axes: title={'center': '36'}>, <Axes: title={'center': '37'}>,\n",
              "        <Axes: title={'center': '38'}>, <Axes: title={'center': '39'}>],\n",
              "       [<Axes: title={'center': '40'}>, <Axes: title={'center': '41'}>,\n",
              "        <Axes: title={'center': '42'}>, <Axes: title={'center': '43'}>,\n",
              "        <Axes: title={'center': '44'}>, <Axes: title={'center': '45'}>,\n",
              "        <Axes: title={'center': '46'}>, <Axes: title={'center': '47'}>],\n",
              "       [<Axes: title={'center': '48'}>, <Axes: title={'center': '49'}>,\n",
              "        <Axes: title={'center': '50'}>, <Axes: title={'center': '51'}>,\n",
              "        <Axes: title={'center': '52'}>, <Axes: title={'center': '53'}>,\n",
              "        <Axes: title={'center': '54'}>, <Axes: title={'center': '55'}>],\n",
              "       [<Axes: title={'center': '56'}>, <Axes: title={'center': '57'}>,\n",
              "        <Axes: title={'center': '58'}>, <Axes: title={'center': '59'}>,\n",
              "        <Axes: title={'center': '60'}>, <Axes: title={'center': '61'}>,\n",
              "        <Axes: title={'center': '62'}>, <Axes: title={'center': '63'}>]],\n",
              "      dtype=object)"
            ]
          },
          "metadata": {},
          "execution_count": 61
        },
        {
          "output_type": "display_data",
          "data": {
            "text/plain": [
              "<Figure size 640x480 with 64 Axes>"
            ],
            "image/png": "[encoded data removed]"
          },
          "metadata": {}
        }
      ]
    },
    {
      "cell_type": "code",
      "metadata": {
        "id": "lBCWJ99ypVsV"
      },
      "source": [],
      "execution_count": 61,
      "outputs": []
    }
  ]
}